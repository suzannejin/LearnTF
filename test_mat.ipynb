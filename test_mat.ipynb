{
 "cells": [
  {
   "cell_type": "code",
   "execution_count": 235,
   "id": "0e4988ce",
   "metadata": {},
   "outputs": [],
   "source": [
    "from src.datasetSimulation.TFFamilyClass import TfFamily\n",
    "from src.datasetSimulation.simulate_data import SimulatedData\n",
    "from src.utils.preProcessing import *\n",
    "from src.modelTraining.maTransformer import *\n",
    "from sklearn.preprocessing import LabelEncoder\n",
    "from sklearn.preprocessing import OneHotEncoder\n",
    "from scipy.signal import fftconvolve\n",
    "from torch.nn.utils.rnn import pad_sequence\n",
    "import re\n",
    "import numpy as np\n",
    "import matplotlib.pyplot as plt\n",
    "import random\n",
    "import torch\n",
    "import torch.nn as nn\n",
    "import torch.optim as optim\n",
    "import torch.nn.functional as F\n",
    "\n",
    "import time\n",
    "import sys\n",
    "from tensorboardX import SummaryWriter\n",
    "\n",
    "from copy import deepcopy"
   ]
  },
  {
   "cell_type": "code",
   "execution_count": 248,
   "id": "9a65d747",
   "metadata": {},
   "outputs": [
    {
     "name": "stdout",
     "output_type": "stream",
     "text": [
      "The autoreload extension is already loaded. To reload it, use:\n",
      "  %reload_ext autoreload\n"
     ]
    },
    {
     "ename": "ModuleNotFoundError",
     "evalue": "No module named 'tensorboard'",
     "output_type": "error",
     "traceback": [
      "\u001b[0;31m---------------------------------------------------------------------------\u001b[0m",
      "\u001b[0;31mModuleNotFoundError\u001b[0m                       Traceback (most recent call last)",
      "\u001b[0;32m/var/folders/yy/9wjy18dj1yl20y1klsmq6n340000gp/T/ipykernel_84602/458839196.py\u001b[0m in \u001b[0;36m<module>\u001b[0;34m\u001b[0m\n\u001b[1;32m      1\u001b[0m \u001b[0mget_ipython\u001b[0m\u001b[0;34m(\u001b[0m\u001b[0;34m)\u001b[0m\u001b[0;34m.\u001b[0m\u001b[0mrun_line_magic\u001b[0m\u001b[0;34m(\u001b[0m\u001b[0;34m'load_ext'\u001b[0m\u001b[0;34m,\u001b[0m \u001b[0;34m'autoreload'\u001b[0m\u001b[0;34m)\u001b[0m\u001b[0;34m\u001b[0m\u001b[0;34m\u001b[0m\u001b[0m\n\u001b[1;32m      2\u001b[0m \u001b[0mget_ipython\u001b[0m\u001b[0;34m(\u001b[0m\u001b[0;34m)\u001b[0m\u001b[0;34m.\u001b[0m\u001b[0mrun_line_magic\u001b[0m\u001b[0;34m(\u001b[0m\u001b[0;34m'autoreload'\u001b[0m\u001b[0;34m,\u001b[0m \u001b[0;34m'2'\u001b[0m\u001b[0;34m)\u001b[0m\u001b[0;34m\u001b[0m\u001b[0;34m\u001b[0m\u001b[0m\n\u001b[0;32m----> 3\u001b[0;31m \u001b[0mget_ipython\u001b[0m\u001b[0;34m(\u001b[0m\u001b[0;34m)\u001b[0m\u001b[0;34m.\u001b[0m\u001b[0mrun_line_magic\u001b[0m\u001b[0;34m(\u001b[0m\u001b[0;34m'load_ext'\u001b[0m\u001b[0;34m,\u001b[0m \u001b[0;34m'tensorboard'\u001b[0m\u001b[0;34m)\u001b[0m\u001b[0;34m\u001b[0m\u001b[0;34m\u001b[0m\u001b[0m\n\u001b[0m",
      "\u001b[0;32m~/opt/anaconda3/envs/G4/lib/python3.7/site-packages/IPython/core/interactiveshell.py\u001b[0m in \u001b[0;36mrun_line_magic\u001b[0;34m(self, magic_name, line, _stack_depth)\u001b[0m\n\u001b[1;32m   2346\u001b[0m                 \u001b[0mkwargs\u001b[0m\u001b[0;34m[\u001b[0m\u001b[0;34m'local_ns'\u001b[0m\u001b[0;34m]\u001b[0m \u001b[0;34m=\u001b[0m \u001b[0mself\u001b[0m\u001b[0;34m.\u001b[0m\u001b[0mget_local_scope\u001b[0m\u001b[0;34m(\u001b[0m\u001b[0mstack_depth\u001b[0m\u001b[0;34m)\u001b[0m\u001b[0;34m\u001b[0m\u001b[0;34m\u001b[0m\u001b[0m\n\u001b[1;32m   2347\u001b[0m             \u001b[0;32mwith\u001b[0m \u001b[0mself\u001b[0m\u001b[0;34m.\u001b[0m\u001b[0mbuiltin_trap\u001b[0m\u001b[0;34m:\u001b[0m\u001b[0;34m\u001b[0m\u001b[0;34m\u001b[0m\u001b[0m\n\u001b[0;32m-> 2348\u001b[0;31m                 \u001b[0mresult\u001b[0m \u001b[0;34m=\u001b[0m \u001b[0mfn\u001b[0m\u001b[0;34m(\u001b[0m\u001b[0;34m*\u001b[0m\u001b[0margs\u001b[0m\u001b[0;34m,\u001b[0m \u001b[0;34m**\u001b[0m\u001b[0mkwargs\u001b[0m\u001b[0;34m)\u001b[0m\u001b[0;34m\u001b[0m\u001b[0;34m\u001b[0m\u001b[0m\n\u001b[0m\u001b[1;32m   2349\u001b[0m             \u001b[0;32mreturn\u001b[0m \u001b[0mresult\u001b[0m\u001b[0;34m\u001b[0m\u001b[0;34m\u001b[0m\u001b[0m\n\u001b[1;32m   2350\u001b[0m \u001b[0;34m\u001b[0m\u001b[0m\n",
      "\u001b[0;32m~/opt/anaconda3/envs/G4/lib/python3.7/site-packages/decorator.py\u001b[0m in \u001b[0;36mfun\u001b[0;34m(*args, **kw)\u001b[0m\n\u001b[1;32m    230\u001b[0m             \u001b[0;32mif\u001b[0m \u001b[0;32mnot\u001b[0m \u001b[0mkwsyntax\u001b[0m\u001b[0;34m:\u001b[0m\u001b[0;34m\u001b[0m\u001b[0;34m\u001b[0m\u001b[0m\n\u001b[1;32m    231\u001b[0m                 \u001b[0margs\u001b[0m\u001b[0;34m,\u001b[0m \u001b[0mkw\u001b[0m \u001b[0;34m=\u001b[0m \u001b[0mfix\u001b[0m\u001b[0;34m(\u001b[0m\u001b[0margs\u001b[0m\u001b[0;34m,\u001b[0m \u001b[0mkw\u001b[0m\u001b[0;34m,\u001b[0m \u001b[0msig\u001b[0m\u001b[0;34m)\u001b[0m\u001b[0;34m\u001b[0m\u001b[0;34m\u001b[0m\u001b[0m\n\u001b[0;32m--> 232\u001b[0;31m             \u001b[0;32mreturn\u001b[0m \u001b[0mcaller\u001b[0m\u001b[0;34m(\u001b[0m\u001b[0mfunc\u001b[0m\u001b[0;34m,\u001b[0m \u001b[0;34m*\u001b[0m\u001b[0;34m(\u001b[0m\u001b[0mextras\u001b[0m \u001b[0;34m+\u001b[0m \u001b[0margs\u001b[0m\u001b[0;34m)\u001b[0m\u001b[0;34m,\u001b[0m \u001b[0;34m**\u001b[0m\u001b[0mkw\u001b[0m\u001b[0;34m)\u001b[0m\u001b[0;34m\u001b[0m\u001b[0;34m\u001b[0m\u001b[0m\n\u001b[0m\u001b[1;32m    233\u001b[0m     \u001b[0mfun\u001b[0m\u001b[0;34m.\u001b[0m\u001b[0m__name__\u001b[0m \u001b[0;34m=\u001b[0m \u001b[0mfunc\u001b[0m\u001b[0;34m.\u001b[0m\u001b[0m__name__\u001b[0m\u001b[0;34m\u001b[0m\u001b[0;34m\u001b[0m\u001b[0m\n\u001b[1;32m    234\u001b[0m     \u001b[0mfun\u001b[0m\u001b[0;34m.\u001b[0m\u001b[0m__doc__\u001b[0m \u001b[0;34m=\u001b[0m \u001b[0mfunc\u001b[0m\u001b[0;34m.\u001b[0m\u001b[0m__doc__\u001b[0m\u001b[0;34m\u001b[0m\u001b[0;34m\u001b[0m\u001b[0m\n",
      "\u001b[0;32m~/opt/anaconda3/envs/G4/lib/python3.7/site-packages/IPython/core/magic.py\u001b[0m in \u001b[0;36m<lambda>\u001b[0;34m(f, *a, **k)\u001b[0m\n\u001b[1;32m    185\u001b[0m     \u001b[0;31m# but it's overkill for just that one bit of state.\u001b[0m\u001b[0;34m\u001b[0m\u001b[0;34m\u001b[0m\u001b[0;34m\u001b[0m\u001b[0m\n\u001b[1;32m    186\u001b[0m     \u001b[0;32mdef\u001b[0m \u001b[0mmagic_deco\u001b[0m\u001b[0;34m(\u001b[0m\u001b[0marg\u001b[0m\u001b[0;34m)\u001b[0m\u001b[0;34m:\u001b[0m\u001b[0;34m\u001b[0m\u001b[0;34m\u001b[0m\u001b[0m\n\u001b[0;32m--> 187\u001b[0;31m         \u001b[0mcall\u001b[0m \u001b[0;34m=\u001b[0m \u001b[0;32mlambda\u001b[0m \u001b[0mf\u001b[0m\u001b[0;34m,\u001b[0m \u001b[0;34m*\u001b[0m\u001b[0ma\u001b[0m\u001b[0;34m,\u001b[0m \u001b[0;34m**\u001b[0m\u001b[0mk\u001b[0m\u001b[0;34m:\u001b[0m \u001b[0mf\u001b[0m\u001b[0;34m(\u001b[0m\u001b[0;34m*\u001b[0m\u001b[0ma\u001b[0m\u001b[0;34m,\u001b[0m \u001b[0;34m**\u001b[0m\u001b[0mk\u001b[0m\u001b[0;34m)\u001b[0m\u001b[0;34m\u001b[0m\u001b[0;34m\u001b[0m\u001b[0m\n\u001b[0m\u001b[1;32m    188\u001b[0m \u001b[0;34m\u001b[0m\u001b[0m\n\u001b[1;32m    189\u001b[0m         \u001b[0;32mif\u001b[0m \u001b[0mcallable\u001b[0m\u001b[0;34m(\u001b[0m\u001b[0marg\u001b[0m\u001b[0;34m)\u001b[0m\u001b[0;34m:\u001b[0m\u001b[0;34m\u001b[0m\u001b[0;34m\u001b[0m\u001b[0m\n",
      "\u001b[0;32m~/opt/anaconda3/envs/G4/lib/python3.7/site-packages/IPython/core/magics/extension.py\u001b[0m in \u001b[0;36mload_ext\u001b[0;34m(self, module_str)\u001b[0m\n\u001b[1;32m     31\u001b[0m         \u001b[0;32mif\u001b[0m \u001b[0;32mnot\u001b[0m \u001b[0mmodule_str\u001b[0m\u001b[0;34m:\u001b[0m\u001b[0;34m\u001b[0m\u001b[0;34m\u001b[0m\u001b[0m\n\u001b[1;32m     32\u001b[0m             \u001b[0;32mraise\u001b[0m \u001b[0mUsageError\u001b[0m\u001b[0;34m(\u001b[0m\u001b[0;34m'Missing module name.'\u001b[0m\u001b[0;34m)\u001b[0m\u001b[0;34m\u001b[0m\u001b[0;34m\u001b[0m\u001b[0m\n\u001b[0;32m---> 33\u001b[0;31m         \u001b[0mres\u001b[0m \u001b[0;34m=\u001b[0m \u001b[0mself\u001b[0m\u001b[0;34m.\u001b[0m\u001b[0mshell\u001b[0m\u001b[0;34m.\u001b[0m\u001b[0mextension_manager\u001b[0m\u001b[0;34m.\u001b[0m\u001b[0mload_extension\u001b[0m\u001b[0;34m(\u001b[0m\u001b[0mmodule_str\u001b[0m\u001b[0;34m)\u001b[0m\u001b[0;34m\u001b[0m\u001b[0;34m\u001b[0m\u001b[0m\n\u001b[0m\u001b[1;32m     34\u001b[0m \u001b[0;34m\u001b[0m\u001b[0m\n\u001b[1;32m     35\u001b[0m         \u001b[0;32mif\u001b[0m \u001b[0mres\u001b[0m \u001b[0;34m==\u001b[0m \u001b[0;34m'already loaded'\u001b[0m\u001b[0;34m:\u001b[0m\u001b[0;34m\u001b[0m\u001b[0;34m\u001b[0m\u001b[0m\n",
      "\u001b[0;32m~/opt/anaconda3/envs/G4/lib/python3.7/site-packages/IPython/core/extensions.py\u001b[0m in \u001b[0;36mload_extension\u001b[0;34m(self, module_str)\u001b[0m\n\u001b[1;32m     78\u001b[0m             \u001b[0;32mif\u001b[0m \u001b[0mmodule_str\u001b[0m \u001b[0;32mnot\u001b[0m \u001b[0;32min\u001b[0m \u001b[0msys\u001b[0m\u001b[0;34m.\u001b[0m\u001b[0mmodules\u001b[0m\u001b[0;34m:\u001b[0m\u001b[0;34m\u001b[0m\u001b[0;34m\u001b[0m\u001b[0m\n\u001b[1;32m     79\u001b[0m                 \u001b[0;32mwith\u001b[0m \u001b[0mprepended_to_syspath\u001b[0m\u001b[0;34m(\u001b[0m\u001b[0mself\u001b[0m\u001b[0;34m.\u001b[0m\u001b[0mipython_extension_dir\u001b[0m\u001b[0;34m)\u001b[0m\u001b[0;34m:\u001b[0m\u001b[0;34m\u001b[0m\u001b[0;34m\u001b[0m\u001b[0m\n\u001b[0;32m---> 80\u001b[0;31m                     \u001b[0mmod\u001b[0m \u001b[0;34m=\u001b[0m \u001b[0mimport_module\u001b[0m\u001b[0;34m(\u001b[0m\u001b[0mmodule_str\u001b[0m\u001b[0;34m)\u001b[0m\u001b[0;34m\u001b[0m\u001b[0;34m\u001b[0m\u001b[0m\n\u001b[0m\u001b[1;32m     81\u001b[0m                     \u001b[0;32mif\u001b[0m \u001b[0mmod\u001b[0m\u001b[0;34m.\u001b[0m\u001b[0m__file__\u001b[0m\u001b[0;34m.\u001b[0m\u001b[0mstartswith\u001b[0m\u001b[0;34m(\u001b[0m\u001b[0mself\u001b[0m\u001b[0;34m.\u001b[0m\u001b[0mipython_extension_dir\u001b[0m\u001b[0;34m)\u001b[0m\u001b[0;34m:\u001b[0m\u001b[0;34m\u001b[0m\u001b[0;34m\u001b[0m\u001b[0m\n\u001b[1;32m     82\u001b[0m                         print((\"Loading extensions from {dir} is deprecated. \"\n",
      "\u001b[0;32m~/opt/anaconda3/envs/G4/lib/python3.7/importlib/__init__.py\u001b[0m in \u001b[0;36mimport_module\u001b[0;34m(name, package)\u001b[0m\n\u001b[1;32m    125\u001b[0m                 \u001b[0;32mbreak\u001b[0m\u001b[0;34m\u001b[0m\u001b[0;34m\u001b[0m\u001b[0m\n\u001b[1;32m    126\u001b[0m             \u001b[0mlevel\u001b[0m \u001b[0;34m+=\u001b[0m \u001b[0;36m1\u001b[0m\u001b[0;34m\u001b[0m\u001b[0;34m\u001b[0m\u001b[0m\n\u001b[0;32m--> 127\u001b[0;31m     \u001b[0;32mreturn\u001b[0m \u001b[0m_bootstrap\u001b[0m\u001b[0;34m.\u001b[0m\u001b[0m_gcd_import\u001b[0m\u001b[0;34m(\u001b[0m\u001b[0mname\u001b[0m\u001b[0;34m[\u001b[0m\u001b[0mlevel\u001b[0m\u001b[0;34m:\u001b[0m\u001b[0;34m]\u001b[0m\u001b[0;34m,\u001b[0m \u001b[0mpackage\u001b[0m\u001b[0;34m,\u001b[0m \u001b[0mlevel\u001b[0m\u001b[0;34m)\u001b[0m\u001b[0;34m\u001b[0m\u001b[0;34m\u001b[0m\u001b[0m\n\u001b[0m\u001b[1;32m    128\u001b[0m \u001b[0;34m\u001b[0m\u001b[0m\n\u001b[1;32m    129\u001b[0m \u001b[0;34m\u001b[0m\u001b[0m\n",
      "\u001b[0;32m~/opt/anaconda3/envs/G4/lib/python3.7/importlib/_bootstrap.py\u001b[0m in \u001b[0;36m_gcd_import\u001b[0;34m(name, package, level)\u001b[0m\n",
      "\u001b[0;32m~/opt/anaconda3/envs/G4/lib/python3.7/importlib/_bootstrap.py\u001b[0m in \u001b[0;36m_find_and_load\u001b[0;34m(name, import_)\u001b[0m\n",
      "\u001b[0;32m~/opt/anaconda3/envs/G4/lib/python3.7/importlib/_bootstrap.py\u001b[0m in \u001b[0;36m_find_and_load_unlocked\u001b[0;34m(name, import_)\u001b[0m\n",
      "\u001b[0;31mModuleNotFoundError\u001b[0m: No module named 'tensorboard'"
     ]
    }
   ],
   "source": [
    "%load_ext autoreload\n",
    "%autoreload 2"
   ]
  },
  {
   "cell_type": "code",
   "execution_count": 193,
   "id": "10625373",
   "metadata": {},
   "outputs": [],
   "source": [
    "tf_object = TfFamily(\"data/raw_data/PWM.txt\", \"data/raw_data/prot_seq.txt\")"
   ]
  },
  {
   "cell_type": "code",
   "execution_count": 194,
   "id": "b8165f59",
   "metadata": {},
   "outputs": [
    {
     "name": "stderr",
     "output_type": "stream",
     "text": [
      "/Users/mgrapotte/LabWork/LearnTF/src/datasetSimulation/TFFamilyClass.py:71: RuntimeWarning: divide by zero encountered in log2\n",
      "  m = np.log2(ppm.T/bg)\n"
     ]
    }
   ],
   "source": [
    "data = SimulatedData(tf_object, n=1)"
   ]
  },
  {
   "cell_type": "code",
   "execution_count": 195,
   "id": "7bedc1f9",
   "metadata": {},
   "outputs": [
    {
     "data": {
      "text/html": [
       "<div>\n",
       "<style scoped>\n",
       "    .dataframe tbody tr th:only-of-type {\n",
       "        vertical-align: middle;\n",
       "    }\n",
       "\n",
       "    .dataframe tbody tr th {\n",
       "        vertical-align: top;\n",
       "    }\n",
       "\n",
       "    .dataframe thead th {\n",
       "        text-align: right;\n",
       "    }\n",
       "</style>\n",
       "<table border=\"1\" class=\"dataframe\">\n",
       "  <thead>\n",
       "    <tr style=\"text-align: right;\">\n",
       "      <th></th>\n",
       "      <th>id</th>\n",
       "      <th>prot_seq</th>\n",
       "      <th>ppm</th>\n",
       "      <th>dna_seq</th>\n",
       "      <th>label</th>\n",
       "    </tr>\n",
       "  </thead>\n",
       "  <tbody>\n",
       "    <tr>\n",
       "      <th>0</th>\n",
       "      <td>prot_00seq_0</td>\n",
       "      <td>RGPRTTIKAKQLETLKXXXXXAAFAATPKPTRHIREQLAQETGLNM...</td>\n",
       "      <td>[[1.0, 1.0, 1.0, 1.0, 1.0], [0.0, 0.0, 0.0, 0....</td>\n",
       "      <td>TTTTTTTTTTTTTTTTTTTTTTTTTAAAAATTTTTTTTTTTTTTTT...</td>\n",
       "      <td>1</td>\n",
       "    </tr>\n",
       "    <tr>\n",
       "      <th>1</th>\n",
       "      <td>prot_00seq_1</td>\n",
       "      <td>RGPRTTIKAKQLETLKXXXXXAAFAATPKPTRHIREQLAQETGLNM...</td>\n",
       "      <td>[[1.0, 1.0, 1.0, 1.0, 1.0], [0.0, 0.0, 0.0, 0....</td>\n",
       "      <td>TTTTTTTTTTTTTTTTTTTTTTTTTAAAAATTTTTTTTTTTTTTTT...</td>\n",
       "      <td>1</td>\n",
       "    </tr>\n",
       "    <tr>\n",
       "      <th>2</th>\n",
       "      <td>prot_00seq_2</td>\n",
       "      <td>RGPRTTIKAKQLETLKXXXXXAAFAATPKPTRHIREQLAQETGLNM...</td>\n",
       "      <td>[[1.0, 1.0, 1.0, 1.0, 1.0], [0.0, 0.0, 0.0, 0....</td>\n",
       "      <td>TTTTTTTTTTTTTTTTTTTTTTTTTAAAAATTTTTTTTTTTTTTTT...</td>\n",
       "      <td>1</td>\n",
       "    </tr>\n",
       "    <tr>\n",
       "      <th>3</th>\n",
       "      <td>prot_00seq_3</td>\n",
       "      <td>RGPRTTIKAKQLETLKXXXXXAAFAATPKPTRHIREQLAQETGLNM...</td>\n",
       "      <td>[[1.0, 1.0, 1.0, 1.0, 1.0], [0.0, 0.0, 0.0, 0....</td>\n",
       "      <td>TTTTTTTTTTTTTTTTTTTTTTTTTAAAAATTTTTTTTTTTTTTTT...</td>\n",
       "      <td>1</td>\n",
       "    </tr>\n",
       "    <tr>\n",
       "      <th>4</th>\n",
       "      <td>prot_00seq_4</td>\n",
       "      <td>RGPRTTIKAKQLETLKXXXXXAAFAATPKPTRHIREQLAQETGLNM...</td>\n",
       "      <td>[[1.0, 1.0, 1.0, 1.0, 1.0], [0.0, 0.0, 0.0, 0....</td>\n",
       "      <td>TTTTTTTTTTTTTTTTTTTTTTTTTAAAAATTTTTTTTTTTTTTTT...</td>\n",
       "      <td>1</td>\n",
       "    </tr>\n",
       "    <tr>\n",
       "      <th>...</th>\n",
       "      <td>...</td>\n",
       "      <td>...</td>\n",
       "      <td>...</td>\n",
       "      <td>...</td>\n",
       "      <td>...</td>\n",
       "    </tr>\n",
       "    <tr>\n",
       "      <th>395</th>\n",
       "      <td>prot_11seq_95</td>\n",
       "      <td>RGPRTTIKAKQLETLKAAFAATPKPTRHIREQLAQETGLNMRVIYY...</td>\n",
       "      <td>[[0.0, 0.0, 0.0, 0.0, 0.0], [1.0, 1.0, 1.0, 1....</td>\n",
       "      <td>TTTTTTTTTTTTTTTTTTTTTTTTTCCCCCTTTTTTTTTTTTTTTT...</td>\n",
       "      <td>1</td>\n",
       "    </tr>\n",
       "    <tr>\n",
       "      <th>396</th>\n",
       "      <td>prot_11seq_96</td>\n",
       "      <td>RGPRTTIKAKQLETLKAAFAATPKPTRHIREQLAQETGLNMRVIYY...</td>\n",
       "      <td>[[0.0, 0.0, 0.0, 0.0, 0.0], [1.0, 1.0, 1.0, 1....</td>\n",
       "      <td>TTTTTTTTTTTTTTTTTTTTTTTTTCCCCCTTTTTTTTTTTTTTTT...</td>\n",
       "      <td>1</td>\n",
       "    </tr>\n",
       "    <tr>\n",
       "      <th>397</th>\n",
       "      <td>prot_11seq_97</td>\n",
       "      <td>RGPRTTIKAKQLETLKAAFAATPKPTRHIREQLAQETGLNMRVIYY...</td>\n",
       "      <td>[[0.0, 0.0, 0.0, 0.0, 0.0], [1.0, 1.0, 1.0, 1....</td>\n",
       "      <td>TTTTTTTTTTTTTTTTTTTTTTTTTCCCCCTTTTTTTTTTTTTTTT...</td>\n",
       "      <td>1</td>\n",
       "    </tr>\n",
       "    <tr>\n",
       "      <th>398</th>\n",
       "      <td>prot_11seq_98</td>\n",
       "      <td>RGPRTTIKAKQLETLKAAFAATPKPTRHIREQLAQETGLNMRVIYY...</td>\n",
       "      <td>[[0.0, 0.0, 0.0, 0.0, 0.0], [1.0, 1.0, 1.0, 1....</td>\n",
       "      <td>TTTTTTTTTTTTTTTTTTTTTTTTTCCCCCTTTTTTTTTTTTTTTT...</td>\n",
       "      <td>1</td>\n",
       "    </tr>\n",
       "    <tr>\n",
       "      <th>399</th>\n",
       "      <td>prot_11seq_99</td>\n",
       "      <td>RGPRTTIKAKQLETLKAAFAATPKPTRHIREQLAQETGLNMRVIYY...</td>\n",
       "      <td>[[0.0, 0.0, 0.0, 0.0, 0.0], [1.0, 1.0, 1.0, 1....</td>\n",
       "      <td>TTTTTTTTTTTTTTTTTTTTTTTTTCCCCCTTTTTTTTTTTTTTTT...</td>\n",
       "      <td>1</td>\n",
       "    </tr>\n",
       "  </tbody>\n",
       "</table>\n",
       "<p>400 rows × 5 columns</p>\n",
       "</div>"
      ],
      "text/plain": [
       "                id                                           prot_seq  \\\n",
       "0     prot_00seq_0  RGPRTTIKAKQLETLKXXXXXAAFAATPKPTRHIREQLAQETGLNM...   \n",
       "1     prot_00seq_1  RGPRTTIKAKQLETLKXXXXXAAFAATPKPTRHIREQLAQETGLNM...   \n",
       "2     prot_00seq_2  RGPRTTIKAKQLETLKXXXXXAAFAATPKPTRHIREQLAQETGLNM...   \n",
       "3     prot_00seq_3  RGPRTTIKAKQLETLKXXXXXAAFAATPKPTRHIREQLAQETGLNM...   \n",
       "4     prot_00seq_4  RGPRTTIKAKQLETLKXXXXXAAFAATPKPTRHIREQLAQETGLNM...   \n",
       "..             ...                                                ...   \n",
       "395  prot_11seq_95  RGPRTTIKAKQLETLKAAFAATPKPTRHIREQLAQETGLNMRVIYY...   \n",
       "396  prot_11seq_96  RGPRTTIKAKQLETLKAAFAATPKPTRHIREQLAQETGLNMRVIYY...   \n",
       "397  prot_11seq_97  RGPRTTIKAKQLETLKAAFAATPKPTRHIREQLAQETGLNMRVIYY...   \n",
       "398  prot_11seq_98  RGPRTTIKAKQLETLKAAFAATPKPTRHIREQLAQETGLNMRVIYY...   \n",
       "399  prot_11seq_99  RGPRTTIKAKQLETLKAAFAATPKPTRHIREQLAQETGLNMRVIYY...   \n",
       "\n",
       "                                                   ppm  \\\n",
       "0    [[1.0, 1.0, 1.0, 1.0, 1.0], [0.0, 0.0, 0.0, 0....   \n",
       "1    [[1.0, 1.0, 1.0, 1.0, 1.0], [0.0, 0.0, 0.0, 0....   \n",
       "2    [[1.0, 1.0, 1.0, 1.0, 1.0], [0.0, 0.0, 0.0, 0....   \n",
       "3    [[1.0, 1.0, 1.0, 1.0, 1.0], [0.0, 0.0, 0.0, 0....   \n",
       "4    [[1.0, 1.0, 1.0, 1.0, 1.0], [0.0, 0.0, 0.0, 0....   \n",
       "..                                                 ...   \n",
       "395  [[0.0, 0.0, 0.0, 0.0, 0.0], [1.0, 1.0, 1.0, 1....   \n",
       "396  [[0.0, 0.0, 0.0, 0.0, 0.0], [1.0, 1.0, 1.0, 1....   \n",
       "397  [[0.0, 0.0, 0.0, 0.0, 0.0], [1.0, 1.0, 1.0, 1....   \n",
       "398  [[0.0, 0.0, 0.0, 0.0, 0.0], [1.0, 1.0, 1.0, 1....   \n",
       "399  [[0.0, 0.0, 0.0, 0.0, 0.0], [1.0, 1.0, 1.0, 1....   \n",
       "\n",
       "                                               dna_seq  label  \n",
       "0    TTTTTTTTTTTTTTTTTTTTTTTTTAAAAATTTTTTTTTTTTTTTT...      1  \n",
       "1    TTTTTTTTTTTTTTTTTTTTTTTTTAAAAATTTTTTTTTTTTTTTT...      1  \n",
       "2    TTTTTTTTTTTTTTTTTTTTTTTTTAAAAATTTTTTTTTTTTTTTT...      1  \n",
       "3    TTTTTTTTTTTTTTTTTTTTTTTTTAAAAATTTTTTTTTTTTTTTT...      1  \n",
       "4    TTTTTTTTTTTTTTTTTTTTTTTTTAAAAATTTTTTTTTTTTTTTT...      1  \n",
       "..                                                 ...    ...  \n",
       "395  TTTTTTTTTTTTTTTTTTTTTTTTTCCCCCTTTTTTTTTTTTTTTT...      1  \n",
       "396  TTTTTTTTTTTTTTTTTTTTTTTTTCCCCCTTTTTTTTTTTTTTTT...      1  \n",
       "397  TTTTTTTTTTTTTTTTTTTTTTTTTCCCCCTTTTTTTTTTTTTTTT...      1  \n",
       "398  TTTTTTTTTTTTTTTTTTTTTTTTTCCCCCTTTTTTTTTTTTTTTT...      1  \n",
       "399  TTTTTTTTTTTTTTTTTTTTTTTTTCCCCCTTTTTTTTTTTTTTTT...      1  \n",
       "\n",
       "[400 rows x 5 columns]"
      ]
     },
     "execution_count": 195,
     "metadata": {},
     "output_type": "execute_result"
    }
   ],
   "source": [
    "data.dummy_data"
   ]
  },
  {
   "cell_type": "code",
   "execution_count": 196,
   "id": "e6b57dc6",
   "metadata": {},
   "outputs": [],
   "source": [
    "prot_seq = data.dummy_data.prot_seq.iloc[0]\n",
    "dna_seq = data.dummy_data.dna_seq.iloc[0]"
   ]
  },
  {
   "cell_type": "code",
   "execution_count": 197,
   "id": "f39661cb",
   "metadata": {},
   "outputs": [],
   "source": [
    "prot_encoded = encode_protein(prot_seq)"
   ]
  },
  {
   "cell_type": "code",
   "execution_count": 198,
   "id": "005a43c3",
   "metadata": {},
   "outputs": [],
   "source": [
    "dna_encoded = encode_dna(dna_seq)"
   ]
  },
  {
   "cell_type": "code",
   "execution_count": 199,
   "id": "96f03361",
   "metadata": {},
   "outputs": [],
   "source": [
    "prot_tensor = torch.from_numpy(prot_encoded).reshape(1,1,prot_encoded.shape[0], prot_encoded.shape[1]).float()"
   ]
  },
  {
   "cell_type": "code",
   "execution_count": 200,
   "id": "cde5cb0c",
   "metadata": {},
   "outputs": [],
   "source": [
    "dna_tensor = torch.from_numpy(dna_encoded).reshape(1,1,dna_encoded.shape[0], dna_encoded.shape[1]).float()"
   ]
  },
  {
   "cell_type": "code",
   "execution_count": 201,
   "id": "7cb7b078",
   "metadata": {},
   "outputs": [],
   "source": [
    "model = maTransformerBlock(filter_dna_size=5, filter_protein_size=5, nb_heads=1)"
   ]
  },
  {
   "cell_type": "code",
   "execution_count": 202,
   "id": "57b67e92",
   "metadata": {},
   "outputs": [],
   "source": [
    "stacked_prot_tensor = torch.stack([prot_tensor, prot_tensor]).reshape(2,1,21,57)\n",
    "stacked_dna_tensor = torch.stack([dna_tensor, dna_tensor]).reshape(2,1,4,100)"
   ]
  },
  {
   "cell_type": "code",
   "execution_count": 203,
   "id": "5c82b2d1",
   "metadata": {},
   "outputs": [
    {
     "data": {
      "text/plain": [
       "torch.Size([2, 1, 21, 57])"
      ]
     },
     "execution_count": 203,
     "metadata": {},
     "output_type": "execute_result"
    }
   ],
   "source": [
    "stacked_prot_tensor.shape"
   ]
  },
  {
   "cell_type": "code",
   "execution_count": 206,
   "id": "9ee11cb6",
   "metadata": {},
   "outputs": [
    {
     "data": {
      "text/plain": [
       "torch.Size([2, 1, 1])"
      ]
     },
     "execution_count": 206,
     "metadata": {},
     "output_type": "execute_result"
    }
   ],
   "source": [
    "model(stacked_dna_tensor, stacked_prot_tensor).shape"
   ]
  },
  {
   "cell_type": "code",
   "execution_count": 16,
   "id": "5aa11247",
   "metadata": {},
   "outputs": [],
   "source": [
    "from torch.nn.functional import relu"
   ]
  },
  {
   "cell_type": "code",
   "execution_count": 17,
   "id": "33705aee",
   "metadata": {},
   "outputs": [],
   "source": []
  },
  {
   "cell_type": "code",
   "execution_count": 263,
   "id": "74716cfa",
   "metadata": {},
   "outputs": [
    {
     "data": {
      "text/plain": [
       "tensor([[[[0., 0., 0., 0., 0., 0., 0., 0., 0., 0., 0., 0., 0., 0., 0., 0., 0.,\n",
       "           0., 0., 0., 0., 0., 0., 0., 0., 1., 1., 1., 1., 1., 0., 0., 0., 0.,\n",
       "           0., 0., 0., 0., 0., 0., 0., 0., 0., 0., 0., 0., 0., 0., 0., 0., 0.,\n",
       "           0., 0., 0., 0., 0., 0., 0., 0., 0., 0., 0., 0., 0., 0., 0., 0., 0.,\n",
       "           0., 0., 0., 0., 0., 0., 0., 0., 0., 0., 0., 0., 0., 0., 0., 0., 0.,\n",
       "           0., 0., 0., 0., 0., 0., 0., 0., 0., 0., 0., 0., 0., 0., 0.],\n",
       "          [0., 0., 0., 0., 0., 0., 0., 0., 0., 0., 0., 0., 0., 0., 0., 0., 0.,\n",
       "           0., 0., 0., 0., 0., 0., 0., 0., 0., 0., 0., 0., 0., 0., 0., 0., 0.,\n",
       "           0., 0., 0., 0., 0., 0., 0., 0., 0., 0., 0., 0., 0., 0., 0., 0., 0.,\n",
       "           0., 0., 0., 0., 0., 0., 0., 0., 0., 0., 0., 0., 0., 0., 0., 0., 0.,\n",
       "           0., 0., 0., 0., 0., 0., 0., 0., 0., 0., 0., 0., 0., 0., 0., 0., 0.,\n",
       "           0., 0., 0., 0., 0., 0., 0., 0., 0., 0., 0., 0., 0., 0., 0.],\n",
       "          [0., 0., 0., 0., 0., 0., 0., 0., 0., 0., 0., 0., 0., 0., 0., 0., 0.,\n",
       "           0., 0., 0., 0., 0., 0., 0., 0., 0., 0., 0., 0., 0., 0., 0., 0., 0.,\n",
       "           0., 0., 0., 0., 0., 0., 0., 0., 0., 0., 0., 0., 0., 0., 0., 0., 0.,\n",
       "           0., 0., 0., 0., 0., 0., 0., 0., 0., 0., 0., 0., 0., 0., 0., 0., 0.,\n",
       "           0., 0., 0., 0., 0., 0., 0., 0., 0., 0., 0., 0., 0., 0., 0., 0., 0.,\n",
       "           0., 0., 0., 0., 0., 0., 0., 0., 0., 0., 0., 0., 0., 0., 0.],\n",
       "          [1., 1., 1., 1., 1., 1., 1., 1., 1., 1., 1., 1., 1., 1., 1., 1., 1.,\n",
       "           1., 1., 1., 1., 1., 1., 1., 1., 0., 0., 0., 0., 0., 1., 1., 1., 1.,\n",
       "           1., 1., 1., 1., 1., 1., 1., 1., 1., 1., 1., 1., 1., 1., 1., 1., 1.,\n",
       "           1., 1., 1., 1., 1., 1., 1., 1., 1., 1., 1., 1., 1., 1., 1., 1., 1.,\n",
       "           1., 1., 1., 1., 1., 1., 1., 1., 1., 1., 1., 1., 1., 1., 1., 1., 1.,\n",
       "           1., 1., 1., 1., 1., 1., 1., 1., 1., 1., 1., 1., 1., 1., 1.]]]])"
      ]
     },
     "execution_count": 263,
     "metadata": {},
     "output_type": "execute_result"
    }
   ],
   "source": [
    "F.relu(dna_tensor)"
   ]
  },
  {
   "cell_type": "markdown",
   "id": "91356f5f",
   "metadata": {},
   "source": [
    "### defining the data loader"
   ]
  },
  {
   "cell_type": "code",
   "execution_count": 33,
   "id": "11531491",
   "metadata": {},
   "outputs": [],
   "source": [
    "from torch.utils.data import Dataset"
   ]
  },
  {
   "cell_type": "code",
   "execution_count": 34,
   "id": "ec2de239",
   "metadata": {},
   "outputs": [
    {
     "data": {
      "text/plain": [
       "Index(['id', 'prot_seq', 'ppm', 'dna_seq', 'label'], dtype='object')"
      ]
     },
     "execution_count": 34,
     "metadata": {},
     "output_type": "execute_result"
    }
   ],
   "source": [
    "data.dummy_data.columns"
   ]
  },
  {
   "cell_type": "code",
   "execution_count": 35,
   "id": "8383ac06",
   "metadata": {},
   "outputs": [
    {
     "data": {
      "text/html": [
       "<div>\n",
       "<style scoped>\n",
       "    .dataframe tbody tr th:only-of-type {\n",
       "        vertical-align: middle;\n",
       "    }\n",
       "\n",
       "    .dataframe tbody tr th {\n",
       "        vertical-align: top;\n",
       "    }\n",
       "\n",
       "    .dataframe thead th {\n",
       "        text-align: right;\n",
       "    }\n",
       "</style>\n",
       "<table border=\"1\" class=\"dataframe\">\n",
       "  <thead>\n",
       "    <tr style=\"text-align: right;\">\n",
       "      <th></th>\n",
       "      <th>id</th>\n",
       "      <th>prot_seq</th>\n",
       "      <th>ppm</th>\n",
       "      <th>dna_seq</th>\n",
       "      <th>label</th>\n",
       "    </tr>\n",
       "  </thead>\n",
       "  <tbody>\n",
       "    <tr>\n",
       "      <th>0</th>\n",
       "      <td>prot_00seq_0</td>\n",
       "      <td>RGPRTTIKAKQLETLKXXXXXAAFAATPKPTRHIREQLAQETGLNM...</td>\n",
       "      <td>[[1.0, 1.0, 1.0, 1.0, 1.0], [0.0, 0.0, 0.0, 0....</td>\n",
       "      <td>TTTTTTTTTTTTTTTTTTTTTTTTTAAAAATTTTTTTTTTTTTTTT...</td>\n",
       "      <td>1</td>\n",
       "    </tr>\n",
       "    <tr>\n",
       "      <th>1</th>\n",
       "      <td>prot_00seq_1</td>\n",
       "      <td>RGPRTTIKAKQLETLKXXXXXAAFAATPKPTRHIREQLAQETGLNM...</td>\n",
       "      <td>[[1.0, 1.0, 1.0, 1.0, 1.0], [0.0, 0.0, 0.0, 0....</td>\n",
       "      <td>TTTTTTTTTTTTTTTTTTTTTTTTTAAAAATTTTTTTTTTTTTTTT...</td>\n",
       "      <td>1</td>\n",
       "    </tr>\n",
       "    <tr>\n",
       "      <th>2</th>\n",
       "      <td>prot_00seq_2</td>\n",
       "      <td>RGPRTTIKAKQLETLKXXXXXAAFAATPKPTRHIREQLAQETGLNM...</td>\n",
       "      <td>[[1.0, 1.0, 1.0, 1.0, 1.0], [0.0, 0.0, 0.0, 0....</td>\n",
       "      <td>TTTTTTTTTTTTTTTTTTTTTTTTTAAAAATTTTTTTTTTTTTTTT...</td>\n",
       "      <td>1</td>\n",
       "    </tr>\n",
       "    <tr>\n",
       "      <th>3</th>\n",
       "      <td>prot_00seq_3</td>\n",
       "      <td>RGPRTTIKAKQLETLKXXXXXAAFAATPKPTRHIREQLAQETGLNM...</td>\n",
       "      <td>[[1.0, 1.0, 1.0, 1.0, 1.0], [0.0, 0.0, 0.0, 0....</td>\n",
       "      <td>TTTTTTTTTTTTTTTTTTTTTTTTTAAAAATTTTTTTTTTTTTTTT...</td>\n",
       "      <td>1</td>\n",
       "    </tr>\n",
       "    <tr>\n",
       "      <th>4</th>\n",
       "      <td>prot_00seq_4</td>\n",
       "      <td>RGPRTTIKAKQLETLKXXXXXAAFAATPKPTRHIREQLAQETGLNM...</td>\n",
       "      <td>[[1.0, 1.0, 1.0, 1.0, 1.0], [0.0, 0.0, 0.0, 0....</td>\n",
       "      <td>TTTTTTTTTTTTTTTTTTTTTTTTTAAAAATTTTTTTTTTTTTTTT...</td>\n",
       "      <td>1</td>\n",
       "    </tr>\n",
       "    <tr>\n",
       "      <th>...</th>\n",
       "      <td>...</td>\n",
       "      <td>...</td>\n",
       "      <td>...</td>\n",
       "      <td>...</td>\n",
       "      <td>...</td>\n",
       "    </tr>\n",
       "    <tr>\n",
       "      <th>395</th>\n",
       "      <td>prot_11seq_95</td>\n",
       "      <td>RGPRTTIKAKQLETLKAAFAATPKPTRHIREQLAQETGLNMRVIYY...</td>\n",
       "      <td>[[0.0, 0.0, 0.0, 0.0, 0.0], [1.0, 1.0, 1.0, 1....</td>\n",
       "      <td>TTTTTTTTTTTTTTTTTTTTTTTTTCCCCCTTTTTTTTTTTTTTTT...</td>\n",
       "      <td>1</td>\n",
       "    </tr>\n",
       "    <tr>\n",
       "      <th>396</th>\n",
       "      <td>prot_11seq_96</td>\n",
       "      <td>RGPRTTIKAKQLETLKAAFAATPKPTRHIREQLAQETGLNMRVIYY...</td>\n",
       "      <td>[[0.0, 0.0, 0.0, 0.0, 0.0], [1.0, 1.0, 1.0, 1....</td>\n",
       "      <td>TTTTTTTTTTTTTTTTTTTTTTTTTCCCCCTTTTTTTTTTTTTTTT...</td>\n",
       "      <td>1</td>\n",
       "    </tr>\n",
       "    <tr>\n",
       "      <th>397</th>\n",
       "      <td>prot_11seq_97</td>\n",
       "      <td>RGPRTTIKAKQLETLKAAFAATPKPTRHIREQLAQETGLNMRVIYY...</td>\n",
       "      <td>[[0.0, 0.0, 0.0, 0.0, 0.0], [1.0, 1.0, 1.0, 1....</td>\n",
       "      <td>TTTTTTTTTTTTTTTTTTTTTTTTTCCCCCTTTTTTTTTTTTTTTT...</td>\n",
       "      <td>1</td>\n",
       "    </tr>\n",
       "    <tr>\n",
       "      <th>398</th>\n",
       "      <td>prot_11seq_98</td>\n",
       "      <td>RGPRTTIKAKQLETLKAAFAATPKPTRHIREQLAQETGLNMRVIYY...</td>\n",
       "      <td>[[0.0, 0.0, 0.0, 0.0, 0.0], [1.0, 1.0, 1.0, 1....</td>\n",
       "      <td>TTTTTTTTTTTTTTTTTTTTTTTTTCCCCCTTTTTTTTTTTTTTTT...</td>\n",
       "      <td>1</td>\n",
       "    </tr>\n",
       "    <tr>\n",
       "      <th>399</th>\n",
       "      <td>prot_11seq_99</td>\n",
       "      <td>RGPRTTIKAKQLETLKAAFAATPKPTRHIREQLAQETGLNMRVIYY...</td>\n",
       "      <td>[[0.0, 0.0, 0.0, 0.0, 0.0], [1.0, 1.0, 1.0, 1....</td>\n",
       "      <td>TTTTTTTTTTTTTTTTTTTTTTTTTCCCCCTTTTTTTTTTTTTTTT...</td>\n",
       "      <td>1</td>\n",
       "    </tr>\n",
       "  </tbody>\n",
       "</table>\n",
       "<p>400 rows × 5 columns</p>\n",
       "</div>"
      ],
      "text/plain": [
       "                id                                           prot_seq  \\\n",
       "0     prot_00seq_0  RGPRTTIKAKQLETLKXXXXXAAFAATPKPTRHIREQLAQETGLNM...   \n",
       "1     prot_00seq_1  RGPRTTIKAKQLETLKXXXXXAAFAATPKPTRHIREQLAQETGLNM...   \n",
       "2     prot_00seq_2  RGPRTTIKAKQLETLKXXXXXAAFAATPKPTRHIREQLAQETGLNM...   \n",
       "3     prot_00seq_3  RGPRTTIKAKQLETLKXXXXXAAFAATPKPTRHIREQLAQETGLNM...   \n",
       "4     prot_00seq_4  RGPRTTIKAKQLETLKXXXXXAAFAATPKPTRHIREQLAQETGLNM...   \n",
       "..             ...                                                ...   \n",
       "395  prot_11seq_95  RGPRTTIKAKQLETLKAAFAATPKPTRHIREQLAQETGLNMRVIYY...   \n",
       "396  prot_11seq_96  RGPRTTIKAKQLETLKAAFAATPKPTRHIREQLAQETGLNMRVIYY...   \n",
       "397  prot_11seq_97  RGPRTTIKAKQLETLKAAFAATPKPTRHIREQLAQETGLNMRVIYY...   \n",
       "398  prot_11seq_98  RGPRTTIKAKQLETLKAAFAATPKPTRHIREQLAQETGLNMRVIYY...   \n",
       "399  prot_11seq_99  RGPRTTIKAKQLETLKAAFAATPKPTRHIREQLAQETGLNMRVIYY...   \n",
       "\n",
       "                                                   ppm  \\\n",
       "0    [[1.0, 1.0, 1.0, 1.0, 1.0], [0.0, 0.0, 0.0, 0....   \n",
       "1    [[1.0, 1.0, 1.0, 1.0, 1.0], [0.0, 0.0, 0.0, 0....   \n",
       "2    [[1.0, 1.0, 1.0, 1.0, 1.0], [0.0, 0.0, 0.0, 0....   \n",
       "3    [[1.0, 1.0, 1.0, 1.0, 1.0], [0.0, 0.0, 0.0, 0....   \n",
       "4    [[1.0, 1.0, 1.0, 1.0, 1.0], [0.0, 0.0, 0.0, 0....   \n",
       "..                                                 ...   \n",
       "395  [[0.0, 0.0, 0.0, 0.0, 0.0], [1.0, 1.0, 1.0, 1....   \n",
       "396  [[0.0, 0.0, 0.0, 0.0, 0.0], [1.0, 1.0, 1.0, 1....   \n",
       "397  [[0.0, 0.0, 0.0, 0.0, 0.0], [1.0, 1.0, 1.0, 1....   \n",
       "398  [[0.0, 0.0, 0.0, 0.0, 0.0], [1.0, 1.0, 1.0, 1....   \n",
       "399  [[0.0, 0.0, 0.0, 0.0, 0.0], [1.0, 1.0, 1.0, 1....   \n",
       "\n",
       "                                               dna_seq  label  \n",
       "0    TTTTTTTTTTTTTTTTTTTTTTTTTAAAAATTTTTTTTTTTTTTTT...      1  \n",
       "1    TTTTTTTTTTTTTTTTTTTTTTTTTAAAAATTTTTTTTTTTTTTTT...      1  \n",
       "2    TTTTTTTTTTTTTTTTTTTTTTTTTAAAAATTTTTTTTTTTTTTTT...      1  \n",
       "3    TTTTTTTTTTTTTTTTTTTTTTTTTAAAAATTTTTTTTTTTTTTTT...      1  \n",
       "4    TTTTTTTTTTTTTTTTTTTTTTTTTAAAAATTTTTTTTTTTTTTTT...      1  \n",
       "..                                                 ...    ...  \n",
       "395  TTTTTTTTTTTTTTTTTTTTTTTTTCCCCCTTTTTTTTTTTTTTTT...      1  \n",
       "396  TTTTTTTTTTTTTTTTTTTTTTTTTCCCCCTTTTTTTTTTTTTTTT...      1  \n",
       "397  TTTTTTTTTTTTTTTTTTTTTTTTTCCCCCTTTTTTTTTTTTTTTT...      1  \n",
       "398  TTTTTTTTTTTTTTTTTTTTTTTTTCCCCCTTTTTTTTTTTTTTTT...      1  \n",
       "399  TTTTTTTTTTTTTTTTTTTTTTTTTCCCCCTTTTTTTTTTTTTTTT...      1  \n",
       "\n",
       "[400 rows x 5 columns]"
      ]
     },
     "execution_count": 35,
     "metadata": {},
     "output_type": "execute_result"
    }
   ],
   "source": [
    "data.dummy_data"
   ]
  },
  {
   "cell_type": "code",
   "execution_count": 207,
   "id": "0482ab17",
   "metadata": {},
   "outputs": [],
   "source": [
    "class generalData(Dataset):\n",
    "    def __init__(self, data):\n",
    "        \"\"\"\n",
    "        data is the pandas dataframe from the xxx class\n",
    "        \"\"\"\n",
    "        \n",
    "        self.dna = np.stack([encode_dna(d) for d in data[\"dna_seq\"]])\n",
    "        self.dna = torch.from_numpy(self.dna).reshape(self.dna.shape[0],1,self.dna.shape[1],self.dna.shape[2]).float()\n",
    "        self.prot = np.stack([encode_protein(p) for p in data[\"prot_seq\"]])\n",
    "        self.prot = torch.from_numpy(self.prot).reshape(self.prot.shape[0],1,self.prot.shape[1],self.prot.shape[2]).float()\n",
    "        #self.label = torch.from_numpy(OneHotEncoder().fit_transform(data[\"label\"].values.reshape(-1,1)).toarray()).float()\n",
    "        self.label = data[\"label\"].values\n",
    "    def __len__(self):\n",
    "        return len(self.label)\n",
    "        \n",
    "    def __getitem__(self, idx):\n",
    "        #return self.dna[idx,:,:,:], self.prot[idx,:,:,:], self.label[idx,:]\n",
    "        return self.dna[idx,:,:,:], self.prot[idx,:,:,:], self.label[idx]"
   ]
  },
  {
   "cell_type": "code",
   "execution_count": 208,
   "id": "b888477e",
   "metadata": {},
   "outputs": [],
   "source": [
    "from torch.utils.data import DataLoader"
   ]
  },
  {
   "cell_type": "code",
   "execution_count": 209,
   "id": "5cbec4f9",
   "metadata": {},
   "outputs": [],
   "source": [
    "test = generalData(data.dummy_data)"
   ]
  },
  {
   "cell_type": "code",
   "execution_count": 210,
   "id": "26c1a996",
   "metadata": {},
   "outputs": [],
   "source": [
    "batch_size = 20"
   ]
  },
  {
   "cell_type": "code",
   "execution_count": 211,
   "id": "952df4af",
   "metadata": {},
   "outputs": [],
   "source": [
    "trainloader = DataLoader(generalData(data.dummy_data), batch_size=batch_size, shuffle=True)"
   ]
  },
  {
   "cell_type": "code",
   "execution_count": 213,
   "id": "bdf95c04",
   "metadata": {},
   "outputs": [],
   "source": [
    "dna, prot, labels = next(iter(trainloader))"
   ]
  },
  {
   "cell_type": "code",
   "execution_count": 214,
   "id": "af53681d",
   "metadata": {},
   "outputs": [
    {
     "data": {
      "text/plain": [
       "torch.Size([20, 1, 4, 100])"
      ]
     },
     "execution_count": 214,
     "metadata": {},
     "output_type": "execute_result"
    }
   ],
   "source": [
    "dna.shape"
   ]
  },
  {
   "cell_type": "code",
   "execution_count": 286,
   "id": "05967cb3",
   "metadata": {},
   "outputs": [],
   "source": [
    "model = maTransformerBlock(filter_dna_size=5, filter_protein_size=5, nb_heads=1)\n",
    "criterion = torch.nn.MSELoss()\n",
    "optimizer = optim.Adam(model.parameters(), lr=0.01, betas=(0.9, 0.999))\n",
    "\n",
    "AAAAA_tensor = torch.from_numpy(np.array([[1,-1,-1,-1],[1,-1,-1,-1],[1,-1,-1,-1],[1,-1,-1,-1],[1,-1,-1,-1]]).T).reshape(model.conv_dna.weight.data.shape)\n",
    "XXXXX_block = [-1 for _ in range(20)] + [1]\n",
    "XXXXX_tensor = torch.from_numpy(np.array([XXXXX_block,XXXXX_block,XXXXX_block,XXXXX_block,XXXXX_block]).T).reshape(model.conv_prot.weight.data.shape)\n",
    "model.conv_dna.weight = torch.nn.Parameter(AAAAA_tensor.float())\n",
    "model.conv_prot.weight = torch.nn.Parameter(XXXXX_tensor.float())\n",
    "first_weights = deepcopy(model.linear.weight.data.squeeze().detach().numpy())"
   ]
  },
  {
   "cell_type": "code",
   "execution_count": 296,
   "id": "fa09b75d",
   "metadata": {},
   "outputs": [
    {
     "name": "stdout",
     "output_type": "stream",
     "text": [
      "tensor([[[[ 0.9703,  1.3914,  1.3512,  1.1634,  0.7454],\n",
      "          [ 0.0000,  0.0000,  0.0000,  0.0000,  0.0000],\n",
      "          [ 0.0000,  0.0000,  0.0000,  0.0000,  0.0000],\n",
      "          [ 0.3810, -0.0402,  0.0000,  0.1879,  0.6059]]]])\n",
      "tensor([[[[ 0.9760,  1.4046,  1.3806,  1.1910,  0.7571],\n",
      "          [ 0.0000,  0.0000,  0.0000,  0.0000,  0.0000],\n",
      "          [ 0.0000,  0.0000,  0.0000,  0.0000,  0.0000],\n",
      "          [ 0.4046, -0.0240,  0.0000,  0.1896,  0.6235]]]])\n",
      "tensor([[[[ 0.9769,  1.4089,  1.3774,  1.1878,  0.7468],\n",
      "          [ 0.0000,  0.0000,  0.0000,  0.0000,  0.0000],\n",
      "          [ 0.0000,  0.0000,  0.0000,  0.0000,  0.0000],\n",
      "          [ 0.4005, -0.0315,  0.0000,  0.1896,  0.6306]]]])\n",
      "tensor([[[[ 0.9674,  1.3883,  1.3474,  1.1677,  0.7510],\n",
      "          [ 0.0000,  0.0000,  0.0000,  0.0000,  0.0000],\n",
      "          [ 0.0000,  0.0000,  0.0000,  0.0000,  0.0000],\n",
      "          [ 0.3799, -0.0409,  0.0000,  0.1796,  0.5964]]]])\n",
      "tensor([[[[ 0.9629,  1.3782,  1.3464,  1.1721,  0.7668],\n",
      "          [ 0.0000,  0.0000,  0.0000,  0.0000,  0.0000],\n",
      "          [ 0.0000,  0.0000,  0.0000,  0.0000,  0.0000],\n",
      "          [ 0.3835, -0.0318,  0.0000,  0.1743,  0.5796]]]])\n",
      "tensor([[[[ 0.9603,  1.3658,  1.3249,  1.1543,  0.7680],\n",
      "          [ 0.0000,  0.0000,  0.0000,  0.0000,  0.0000],\n",
      "          [ 0.0000,  0.0000,  0.0000,  0.0000,  0.0000],\n",
      "          [ 0.3646, -0.0409,  0.0000,  0.1706,  0.5569]]]])\n",
      "tensor([[[[ 0.9600,  1.3696,  1.3214,  1.1514,  0.7578],\n",
      "          [ 0.0000,  0.0000,  0.0000,  0.0000,  0.0000],\n",
      "          [ 0.0000,  0.0000,  0.0000,  0.0000,  0.0000],\n",
      "          [ 0.3614, -0.0482,  0.0000,  0.1700,  0.5636]]]])\n",
      "tensor([[[[ 0.9573,  1.3598,  1.3026,  1.1341,  0.7523],\n",
      "          [ 0.0000,  0.0000,  0.0000,  0.0000,  0.0000],\n",
      "          [ 0.0000,  0.0000,  0.0000,  0.0000,  0.0000],\n",
      "          [ 0.3453, -0.0572,  0.0000,  0.1685,  0.5503]]]])\n",
      "tensor([[[[ 0.9674,  1.3786,  1.3338,  1.1579,  0.7625],\n",
      "          [ 0.0000,  0.0000,  0.0000,  0.0000,  0.0000],\n",
      "          [ 0.0000,  0.0000,  0.0000,  0.0000,  0.0000],\n",
      "          [ 0.3664, -0.0448,  0.0000,  0.1760,  0.5713]]]])\n",
      "tensor([[[[ 0.9798,  1.4062,  1.3527,  1.1698,  0.7512],\n",
      "          [ 0.0000,  0.0000,  0.0000,  0.0000,  0.0000],\n",
      "          [ 0.0000,  0.0000,  0.0000,  0.0000,  0.0000],\n",
      "          [ 0.3730, -0.0535,  0.0000,  0.1829,  0.6015]]]])\n",
      "tensor([[[[ 0.9936,  1.4322,  1.3702,  1.1768,  0.7400],\n",
      "          [ 0.0000,  0.0000,  0.0000,  0.0000,  0.0000],\n",
      "          [ 0.0000,  0.0000,  0.0000,  0.0000,  0.0000],\n",
      "          [ 0.3766, -0.0620,  0.0000,  0.1934,  0.6302]]]])\n",
      "tensor([[[[ 0.9988,  1.4421,  1.3884,  1.1904,  0.7463],\n",
      "          [ 0.0000,  0.0000,  0.0000,  0.0000,  0.0000],\n",
      "          [ 0.0000,  0.0000,  0.0000,  0.0000,  0.0000],\n",
      "          [ 0.3895, -0.0537,  0.0000,  0.1980,  0.6421]]]])\n",
      "tensor([[[[ 1.0010,  1.4494,  1.4077,  1.2069,  0.7546],\n",
      "          [ 0.0000,  0.0000,  0.0000,  0.0000,  0.0000],\n",
      "          [ 0.0000,  0.0000,  0.0000,  0.0000,  0.0000],\n",
      "          [ 0.4066, -0.0417,  0.0000,  0.2007,  0.6531]]]])\n",
      "tensor([[[[ 0.9980,  1.4402,  1.3923,  1.1975,  0.7557],\n",
      "          [ 0.0000,  0.0000,  0.0000,  0.0000,  0.0000],\n",
      "          [ 0.0000,  0.0000,  0.0000,  0.0000,  0.0000],\n",
      "          [ 0.3942, -0.0479,  0.0000,  0.1947,  0.6366]]]])\n",
      "tensor([[[[ 0.9962,  1.4395,  1.3978,  1.2040,  0.7601],\n",
      "          [ 0.0000,  0.0000,  0.0000,  0.0000,  0.0000],\n",
      "          [ 0.0000,  0.0000,  0.0000,  0.0000,  0.0000],\n",
      "          [ 0.4016, -0.0417,  0.0000,  0.1938,  0.6377]]]])\n",
      "tensor([[[[ 0.9990,  1.4409,  1.3919,  1.1969,  0.7555],\n",
      "          [ 0.0000,  0.0000,  0.0000,  0.0000,  0.0000],\n",
      "          [ 0.0000,  0.0000,  0.0000,  0.0000,  0.0000],\n",
      "          [ 0.3929, -0.0489,  0.0000,  0.1950,  0.6364]]]])\n",
      "tensor([[[[ 1.0075,  1.4377,  1.3818,  1.1946,  0.7743],\n",
      "          [ 0.0000,  0.0000,  0.0000,  0.0000,  0.0000],\n",
      "          [ 0.0000,  0.0000,  0.0000,  0.0000,  0.0000],\n",
      "          [ 0.3743, -0.0559,  0.0000,  0.1873,  0.6076]]]])\n",
      "tensor([[[[ 1.0088,  1.4313,  1.3694,  1.1891,  0.7821],\n",
      "          [ 0.0000,  0.0000,  0.0000,  0.0000,  0.0000],\n",
      "          [ 0.0000,  0.0000,  0.0000,  0.0000,  0.0000],\n",
      "          [ 0.3606, -0.0618,  0.0000,  0.1803,  0.5873]]]])\n",
      "tensor([[[[ 1.0059,  1.4301,  1.3614,  1.1830,  0.7733],\n",
      "          [ 0.0000,  0.0000,  0.0000,  0.0000,  0.0000],\n",
      "          [ 0.0000,  0.0000,  0.0000,  0.0000,  0.0000],\n",
      "          [ 0.3555, -0.0686,  0.0000,  0.1784,  0.5881]]]])\n",
      "tensor([[[[ 1.0014,  1.4184,  1.3431,  1.1711,  0.7724],\n",
      "          [ 0.0000,  0.0000,  0.0000,  0.0000,  0.0000],\n",
      "          [ 0.0000,  0.0000,  0.0000,  0.0000,  0.0000],\n",
      "          [ 0.3417, -0.0753,  0.0000,  0.1719,  0.5707]]]])\n",
      "Finished Training\n"
     ]
    }
   ],
   "source": [
    "test_outputs = []\n",
    "model.train()\n",
    "for epoch in range(1):  # loop over the dataset multiple times\n",
    "\n",
    "    running_loss = 0.0\n",
    "    for i, train in enumerate(trainloader, 0):\n",
    "        # get the inputs; data is a list of [inputs, labels]\n",
    "        dna, prot, labels = train\n",
    "\n",
    "        # zero the parameter gradients\n",
    "        optimizer.zero_grad()\n",
    "\n",
    "        # forward + backward + optimize\n",
    "        outputs = model(dna, prot).squeeze()\n",
    "        test_outputs.append(outputs)\n",
    "        loss = criterion(outputs.float(), labels.float())\n",
    "        loss.backward()\n",
    "        optimizer.step()\n",
    "        #print(model.linear.weight.grad)\n",
    "        print(model.conv_dna.weight.grad)\n",
    "        #print statistics\n",
    "        #running_loss += loss.item()\n",
    "        #print(f'[{epoch + 1}, {i + 1:5d}] loss: {running_loss / (i+1):.3f}')\n",
    "\n",
    "print('Finished Training')"
   ]
  },
  {
   "cell_type": "code",
   "execution_count": 295,
   "id": "35311202",
   "metadata": {},
   "outputs": [
    {
     "data": {
      "text/plain": [
       "[<matplotlib.lines.Line2D at 0x7f87e98da090>]"
      ]
     },
     "execution_count": 295,
     "metadata": {},
     "output_type": "execute_result"
    },
    {
     "data": {
      "image/png": "[encoded data removed]",
      "text/plain": [
       "<Figure size 432x288 with 1 Axes>"
      ]
     },
     "metadata": {
      "needs_background": "light"
     },
     "output_type": "display_data"
    }
   ],
   "source": [
    "plt.plot(model.linear.weight.data.squeeze().detach().numpy())\n",
    "plt.plot(first_weights)"
   ]
  },
  {
   "cell_type": "code",
   "execution_count": 297,
   "id": "0e2a5404",
   "metadata": {},
   "outputs": [
    {
     "data": {
      "text/plain": [
       "<matplotlib.colorbar.Colorbar at 0x7f87f9091990>"
      ]
     },
     "execution_count": 297,
     "metadata": {},
     "output_type": "execute_result"
    },
    {
     "data": {
      "image/png": "[encoded data removed]",
      "text/plain": [
       "<Figure size 432x288 with 2 Axes>"
      ]
     },
     "metadata": {
      "needs_background": "light"
     },
     "output_type": "display_data"
    }
   ],
   "source": [
    "plt.imshow(model.conv_dna.weight.data.squeeze().detach().numpy())\n",
    "plt.colorbar()"
   ]
  },
  {
   "cell_type": "code",
   "execution_count": 299,
   "id": "bd9730a3",
   "metadata": {},
   "outputs": [
    {
     "data": {
      "text/plain": [
       "Parameter containing:\n",
       "tensor([[[[ 1.,  1.,  1.,  1.,  1.],\n",
       "          [-1., -1., -1., -1., -1.],\n",
       "          [-1., -1., -1., -1., -1.],\n",
       "          [-1., -1., -1., -1., -1.]]]], requires_grad=True)"
      ]
     },
     "execution_count": 299,
     "metadata": {},
     "output_type": "execute_result"
    }
   ],
   "source": [
    "model.conv_dna.weight"
   ]
  },
  {
   "cell_type": "code",
   "execution_count": 283,
   "id": "45cd8522",
   "metadata": {},
   "outputs": [
    {
     "data": {
      "text/plain": [
       "<generator object Module.parameters at 0x7f883ad67dd0>"
      ]
     },
     "execution_count": 283,
     "metadata": {},
     "output_type": "execute_result"
    }
   ],
   "source": [
    "model.parameters()"
   ]
  },
  {
   "cell_type": "code",
   "execution_count": 307,
   "id": "af0b4e8a",
   "metadata": {},
   "outputs": [],
   "source": [
    "dna = test.__getitem__(2)[0]\n",
    "prot = test.__getitem__(2)[1]\n",
    "label = test.__getitem__(2)[2]\n",
    "\n",
    "dna_unmatch = test.__getitem__(201)[0]\n",
    "prot_unmach = test.__getitem__(201)[1]\n",
    "label_unmatch = test.__getitem__(201)[2]"
   ]
  },
  {
   "cell_type": "code",
   "execution_count": 130,
   "id": "a93d656f",
   "metadata": {},
   "outputs": [
    {
     "data": {
      "text/plain": [
       "torch.Size([1, 21, 57])"
      ]
     },
     "execution_count": 130,
     "metadata": {},
     "output_type": "execute_result"
    }
   ],
   "source": [
    "prot.shape"
   ]
  },
  {
   "cell_type": "code",
   "execution_count": 131,
   "id": "250cecce",
   "metadata": {},
   "outputs": [
    {
     "name": "stdout",
     "output_type": "stream",
     "text": [
      "dna_conv: tensor([[[[0., 0., 0., 0., 0., 0., 0., 0., 0., 0., 0., 0., 0., 0., 0., 0., 0.,\n",
      "           0., 0., 0., 0., 0., 0., 1., 3., 5., 3., 1., 0., 0., 0., 0., 0., 0.,\n",
      "           0., 0., 0., 0., 0., 0., 0., 0., 0., 0., 0., 0., 0., 0., 0., 0., 0.,\n",
      "           0., 0., 0., 0., 0., 0., 0., 0., 0., 0., 0., 0., 0., 0., 0., 0., 0.,\n",
      "           0., 0., 0., 0., 0., 0., 0., 0., 0., 0., 0., 0., 0., 0., 0., 0., 0.,\n",
      "           0., 0., 0., 0., 0., 0., 0., 0., 0., 0., 0.]]]],\n",
      "       grad_fn=<ReluBackward0>)\n",
      "prot_conv: tensor([[[[0., 0., 0., 0., 0., 0., 0., 0., 0., 0., 0., 0., 0., 0., 1., 3., 5.,\n",
      "           3., 1., 0., 0., 0., 0., 0., 0., 0., 0., 0., 0., 0., 0., 0., 0., 0.,\n",
      "           0., 0., 0., 0., 0., 0., 0., 0., 0., 0., 0., 0., 0., 0., 0., 0., 0.,\n",
      "           0., 0.]]]], grad_fn=<ReluBackward0>)\n",
      "output attention: tensor([[[0.1250, 0.1562, 0.1250],\n",
      "         [0.1250, 0.1562, 0.1250],\n",
      "         [0.1250, 0.1562, 0.1250],\n",
      "         [0.1250, 0.1562, 0.1250],\n",
      "         [0.4797, 0.7550, 0.5006],\n",
      "         [3.0000, 5.0000, 3.0000],\n",
      "         [0.5006, 0.7550, 0.4797],\n",
      "         [0.1250, 0.1562, 0.1250],\n",
      "         [0.1250, 0.1562, 0.1250],\n",
      "         [0.1250, 0.1562, 0.1250],\n",
      "         [0.1250, 0.1562, 0.1250],\n",
      "         [0.1250, 0.1562, 0.1250],\n",
      "         [0.1250, 0.1562, 0.1250],\n",
      "         [0.1250, 0.1562, 0.1250],\n",
      "         [0.1250, 0.1562, 0.1250],\n",
      "         [0.1250, 0.1562, 0.1250],\n",
      "         [0.1250, 0.1562, 0.1250],\n",
      "         [0.1250, 0.1562, 0.1250],\n",
      "         [0.1250, 0.1562, 0.1250],\n",
      "         [0.1250, 0.1562, 0.1250],\n",
      "         [0.1250, 0.1562, 0.1250],\n",
      "         [0.1250, 0.1562, 0.1250],\n",
      "         [0.1250, 0.1562, 0.1250],\n",
      "         [0.1250, 0.1562, 0.1250],\n",
      "         [0.1250, 0.1562, 0.1250],\n",
      "         [0.1250, 0.1562, 0.1250],\n",
      "         [0.1250, 0.1562, 0.1250],\n",
      "         [0.1250, 0.1562, 0.1250],\n",
      "         [0.1250, 0.1562, 0.1250],\n",
      "         [0.1250, 0.1562, 0.1250],\n",
      "         [0.1250, 0.1562, 0.1250],\n",
      "         [0.1250, 0.1562, 0.1250]]], grad_fn=<UnsafeViewBackward>)\n"
     ]
    },
    {
     "data": {
      "text/plain": [
       "tensor([[[ 0.5341, -0.3837]]], grad_fn=<AddBackward0>)"
      ]
     },
     "execution_count": 131,
     "metadata": {},
     "output_type": "execute_result"
    }
   ],
   "source": [
    "model(dna.reshape(1,1,4,100), prot.reshape(1,1,21,57), verbose=True)"
   ]
  },
  {
   "cell_type": "code",
   "execution_count": 132,
   "id": "92672ab2",
   "metadata": {},
   "outputs": [
    {
     "data": {
      "text/plain": [
       "tensor([[-0.0765, -0.0941, -0.0436, -0.0395, -0.0703,  0.0490,  0.0625,  0.0844,\n",
       "         -0.0657, -0.0598,  0.0345,  0.0399,  0.0602, -0.0425, -0.0168,  0.0121,\n",
       "          0.0877,  0.0138, -0.0684, -0.0613, -0.0352,  0.0725,  0.0823,  0.0481,\n",
       "          0.0227,  0.0595,  0.0400, -0.0878, -0.0089,  0.0142, -0.0302, -0.0570,\n",
       "          0.0207,  0.0206, -0.0416,  0.0427,  0.1018,  0.0294,  0.0741,  0.0630,\n",
       "          0.0829, -0.0717,  0.0134,  0.0588, -0.0479,  0.0927,  0.0636,  0.0732,\n",
       "         -0.0801, -0.1001,  0.0834, -0.0457,  0.0316, -0.0218,  0.0023, -0.0709,\n",
       "          0.0098,  0.0339, -0.0987,  0.0300, -0.0624,  0.0803, -0.0787,  0.0531,\n",
       "         -0.0605,  0.0191,  0.0733, -0.0926, -0.0191, -0.0244, -0.0829, -0.0096,\n",
       "          0.0773,  0.0459,  0.0092, -0.1005,  0.0046, -0.0752, -0.0676, -0.0375,\n",
       "          0.0871,  0.0642, -0.0013,  0.0572,  0.0107,  0.0138,  0.0228,  0.0747,\n",
       "         -0.0063, -0.0966,  0.0418,  0.0193,  0.0526, -0.0566,  0.0287,  0.0136],\n",
       "        [ 0.0353, -0.0564,  0.0289,  0.0431,  0.0352, -0.0645,  0.0065, -0.0494,\n",
       "         -0.0413, -0.0162, -0.0383,  0.0286, -0.0626,  0.0453,  0.0004, -0.0789,\n",
       "         -0.0457,  0.0526, -0.0090, -0.0738, -0.0348,  0.0333,  0.0553,  0.0609,\n",
       "          0.0329, -0.0444,  0.0665,  0.0044,  0.0918, -0.0762,  0.0531,  0.0971,\n",
       "         -0.0179,  0.0863,  0.0069, -0.0599,  0.0374,  0.0086,  0.0903, -0.0056,\n",
       "         -0.0307,  0.0300, -0.0814, -0.0171,  0.0931, -0.0287, -0.0852,  0.0907,\n",
       "         -0.1012, -0.0611,  0.0867,  0.0092, -0.0709, -0.0045, -0.1013,  0.0678,\n",
       "          0.0493,  0.0216,  0.0166,  0.0555, -0.0162,  0.0290,  0.0968, -0.0457,\n",
       "         -0.0895, -0.0695,  0.0017,  0.0517,  0.0087,  0.0865,  0.0637,  0.0760,\n",
       "          0.0355,  0.0492, -0.0903,  0.0048,  0.0103, -0.0706, -0.0442, -0.0405,\n",
       "         -0.0100,  0.0359,  0.0545, -0.0252, -0.0683, -0.0881, -0.0816,  0.0712,\n",
       "         -0.0581, -0.0699, -0.0719, -0.0915,  0.0368, -0.0237,  0.0764,  0.0852]])"
      ]
     },
     "execution_count": 132,
     "metadata": {},
     "output_type": "execute_result"
    }
   ],
   "source": [
    "model.linear.weight.data"
   ]
  },
  {
   "cell_type": "markdown",
   "id": "4e42bfc0",
   "metadata": {},
   "source": [
    "### Creating a new model architecture and setting the weights"
   ]
  },
  {
   "cell_type": "code",
   "execution_count": 301,
   "id": "a50a5311",
   "metadata": {},
   "outputs": [],
   "source": [
    "model = maTransformerBlock(filter_dna_size=5, filter_protein_size=5, nb_heads=1)"
   ]
  },
  {
   "cell_type": "code",
   "execution_count": 302,
   "id": "29f3f452",
   "metadata": {},
   "outputs": [],
   "source": [
    "AAAAA_tensor = torch.from_numpy(np.array([[1,-1,-1,-1],[1,-1,-1,-1],[1,-1,-1,-1],[1,-1,-1,-1],[1,-1,-1,-1]]).T).reshape(model.conv_dna.weight.data.shape)\n",
    "XXXXX_block = [-1 for _ in range(20)] + [1]\n",
    "XXXXX_tensor = torch.from_numpy(np.array([XXXXX_block,XXXXX_block,XXXXX_block,XXXXX_block,XXXXX_block]).T).reshape(model.conv_prot.weight.data.shape)"
   ]
  },
  {
   "cell_type": "code",
   "execution_count": 303,
   "id": "d420f5b8",
   "metadata": {},
   "outputs": [],
   "source": [
    "model.conv_dna.weight = torch.nn.Parameter(AAAAA_tensor.float())\n",
    "model.conv_prot.weight = torch.nn.Parameter(XXXXX_tensor.float())"
   ]
  },
  {
   "cell_type": "code",
   "execution_count": 138,
   "id": "a605e0da",
   "metadata": {},
   "outputs": [
    {
     "data": {
      "text/plain": [
       "tensor([[[[-1, -1, -1, -1, -1],\n",
       "          [-1, -1, -1, -1, -1],\n",
       "          [-1, -1, -1, -1, -1],\n",
       "          [-1, -1, -1, -1, -1],\n",
       "          [-1, -1, -1, -1, -1],\n",
       "          [-1, -1, -1, -1, -1],\n",
       "          [-1, -1, -1, -1, -1],\n",
       "          [-1, -1, -1, -1, -1],\n",
       "          [-1, -1, -1, -1, -1],\n",
       "          [-1, -1, -1, -1, -1],\n",
       "          [-1, -1, -1, -1, -1],\n",
       "          [-1, -1, -1, -1, -1],\n",
       "          [-1, -1, -1, -1, -1],\n",
       "          [-1, -1, -1, -1, -1],\n",
       "          [-1, -1, -1, -1, -1],\n",
       "          [-1, -1, -1, -1, -1],\n",
       "          [-1, -1, -1, -1, -1],\n",
       "          [-1, -1, -1, -1, -1],\n",
       "          [-1, -1, -1, -1, -1],\n",
       "          [-1, -1, -1, -1, -1],\n",
       "          [ 1,  1,  1,  1,  1]]]])"
      ]
     },
     "execution_count": 138,
     "metadata": {},
     "output_type": "execute_result"
    }
   ],
   "source": [
    "XXXXX_tensor"
   ]
  },
  {
   "cell_type": "code",
   "execution_count": 139,
   "id": "f5aacffa",
   "metadata": {},
   "outputs": [],
   "source": [
    "p_test = prot.reshape(1,prot.shape[0],prot.shape[1],prot.shape[2])\n",
    "d_test = dna.reshape(1,dna.shape[0],dna.shape[1],dna.shape[2])"
   ]
  },
  {
   "cell_type": "code",
   "execution_count": 140,
   "id": "4925b297",
   "metadata": {},
   "outputs": [
    {
     "data": {
      "text/plain": [
       "tensor([[[[-5., -5., -5., -5., -5., -5., -5., -5., -5., -5., -5., -5., -3., -1.,\n",
       "            1.,  3.,  5.,  3.,  1., -1., -3., -5., -5., -5., -5., -5., -5., -5.,\n",
       "           -5., -5., -5., -5., -5., -5., -5., -5., -5., -5., -5., -5., -5., -5.,\n",
       "           -5., -5., -5., -5., -5., -5., -5., -5., -5., -5., -5.]]]],\n",
       "       grad_fn=<MkldnnConvolutionBackward>)"
      ]
     },
     "execution_count": 140,
     "metadata": {},
     "output_type": "execute_result"
    }
   ],
   "source": [
    "model.conv_prot(p_test)"
   ]
  },
  {
   "cell_type": "code",
   "execution_count": 141,
   "id": "c22d42a2",
   "metadata": {},
   "outputs": [
    {
     "data": {
      "text/plain": [
       "tensor([[[[-5., -5., -5., -5., -5., -5., -5., -5., -5., -5., -5., -5., -5., -5.,\n",
       "           -5., -5., -5., -5., -5., -5., -5., -3., -1.,  1.,  3.,  5.,  3.,  1.,\n",
       "           -1., -3., -5., -5., -5., -5., -5., -5., -5., -5., -5., -5., -5., -5.,\n",
       "           -5., -5., -5., -5., -5., -5., -5., -5., -5., -5., -5., -5., -5., -5.,\n",
       "           -5., -5., -5., -5., -5., -5., -5., -5., -5., -5., -5., -5., -5., -5.,\n",
       "           -5., -5., -5., -5., -5., -5., -5., -5., -5., -5., -5., -5., -5., -5.,\n",
       "           -5., -5., -5., -5., -5., -5., -5., -5., -5., -5., -5., -5.]]]],\n",
       "       grad_fn=<MkldnnConvolutionBackward>)"
      ]
     },
     "execution_count": 141,
     "metadata": {},
     "output_type": "execute_result"
    }
   ],
   "source": [
    "model.conv_dna(d_test)"
   ]
  },
  {
   "cell_type": "code",
   "execution_count": 142,
   "id": "2c59f79c",
   "metadata": {},
   "outputs": [
    {
     "ename": "TypeError",
     "evalue": "scaled_dot_product_attention() missing 3 required positional arguments: 'q', 'k', and 'v'",
     "output_type": "error",
     "traceback": [
      "\u001b[0;31m---------------------------------------------------------------------------\u001b[0m",
      "\u001b[0;31mTypeError\u001b[0m                                 Traceback (most recent call last)",
      "\u001b[0;32m/var/folders/yy/9wjy18dj1yl20y1klsmq6n340000gp/T/ipykernel_84602/3606458580.py\u001b[0m in \u001b[0;36m<module>\u001b[0;34m\u001b[0m\n\u001b[0;32m----> 1\u001b[0;31m \u001b[0mscaled_dot_product_attention\u001b[0m\u001b[0;34m(\u001b[0m\u001b[0;34m)\u001b[0m\u001b[0;34m\u001b[0m\u001b[0;34m\u001b[0m\u001b[0m\n\u001b[0m",
      "\u001b[0;31mTypeError\u001b[0m: scaled_dot_product_attention() missing 3 required positional arguments: 'q', 'k', and 'v'"
     ]
    }
   ],
   "source": [
    "scaled_dot_product_attention()"
   ]
  },
  {
   "cell_type": "code",
   "execution_count": 304,
   "id": "ca502b03",
   "metadata": {},
   "outputs": [],
   "source": [
    "def model_rebuilding(dna, prot, model=model, batch_size=1):\n",
    "    p_test = prot.reshape(1,prot.shape[0],prot.shape[1],prot.shape[2])\n",
    "    d_test = dna.reshape(1,dna.shape[0],dna.shape[1],dna.shape[2])\n",
    "    prot_conv = model.conv_prot(p_test)\n",
    "    dna_conv = model.conv_dna(d_test)\n",
    "    \n",
    "    prot_conv = F.relu(prot_conv)\n",
    "    dna_conv = F.relu(dna_conv)\n",
    "\n",
    "    list_dna    = list(dna_conv.reshape(batch_size, dna_conv.shape[-1]))\n",
    "    list_prot   = list(prot_conv.reshape(batch_size, prot_conv.shape[-1]))\n",
    "    padded      = pad_sequence(list_dna+list_prot, batch_first=True, padding_value=0)\n",
    "    dna_tensor  = padded[:batch_size,:]\n",
    "    prot_tensor = padded[batch_size:,:]\n",
    "    \n",
    "    stacked_d   = torch.stack(torch.chunk(dna_tensor, dna_tensor.shape[1]//model.chunk_size, dim=1))\n",
    "    stacked_p   = torch.stack(torch.chunk(prot_tensor, prot_tensor.shape[1]//model.chunk_size, dim=1))\n",
    "    s_d_reshape = stacked_d.reshape(stacked_d.shape[1], stacked_d.shape[0], stacked_d.shape[2])\n",
    "    s_p_reshape = stacked_p.reshape(stacked_p.shape[1], stacked_p.shape[0], stacked_p.shape[2])\n",
    "    \n",
    "    \n",
    "    \n",
    "    output, attention = scaled_dot_product_attention(s_p_reshape, s_d_reshape, s_d_reshape, None)\n",
    "    out_reshaped= output.reshape(batch_size, 1, output.shape[1]*output.shape[2])\n",
    "    \n",
    "    out_max_pool = nn.MaxPool1d(kernel_size=model.chunk_size, stride=model.chunk_size)(out_reshaped).sort(dim=2, descending=True)[0]\n",
    "    \n",
    "    return dna_conv, out_reshaped, attention"
   ]
  },
  {
   "cell_type": "code",
   "execution_count": 308,
   "id": "910d9b46",
   "metadata": {},
   "outputs": [],
   "source": [
    "model.chunk_size=3\n",
    "dna_conv, output, attention = model_rebuilding(dna, prot)"
   ]
  },
  {
   "cell_type": "code",
   "execution_count": 309,
   "id": "526182b5",
   "metadata": {},
   "outputs": [
    {
     "data": {
      "text/plain": [
       "<matplotlib.colorbar.Colorbar at 0x7f87f90e6350>"
      ]
     },
     "execution_count": 309,
     "metadata": {},
     "output_type": "execute_result"
    },
    {
     "data": {
      "image/png": "[encoded data removed]",
      "text/plain": [
       "<Figure size 720x720 with 2 Axes>"
      ]
     },
     "metadata": {
      "needs_background": "light"
     },
     "output_type": "display_data"
    }
   ],
   "source": [
    "plt.figure(figsize=(10,10))\n",
    "plt.imshow(attention.squeeze().detach().numpy())\n",
    "plt.colorbar()"
   ]
  },
  {
   "cell_type": "code",
   "execution_count": 310,
   "id": "72933a93",
   "metadata": {},
   "outputs": [
    {
     "data": {
      "text/plain": [
       "<matplotlib.legend.Legend at 0x7f87e9930c50>"
      ]
     },
     "execution_count": 310,
     "metadata": {},
     "output_type": "execute_result"
    },
    {
     "data": {
      "image/png": "[encoded data removed]",
      "text/plain": [
       "<Figure size 432x288 with 1 Axes>"
      ]
     },
     "metadata": {
      "needs_background": "light"
     },
     "output_type": "display_data"
    }
   ],
   "source": [
    "plt.plot(output.squeeze().detach().numpy(), label=\"attended convolution\")\n",
    "plt.plot(dna_conv.squeeze().detach().numpy(), label=\"convolution prior to attention\")\n",
    "plt.xlabel(\"position\")\n",
    "plt.ylabel(\"scalar value\")\n",
    "plt.title(\"comparison between attended and non attended in matching sequences\")\n",
    "plt.legend()"
   ]
  },
  {
   "cell_type": "code",
   "execution_count": 311,
   "id": "01a6b78a",
   "metadata": {},
   "outputs": [],
   "source": [
    "model.chunk_size=3\n",
    "dna_conv, output, attention = model_rebuilding(dna_unmatch, prot_unmach)"
   ]
  },
  {
   "cell_type": "code",
   "execution_count": 312,
   "id": "fa62beab",
   "metadata": {},
   "outputs": [
    {
     "data": {
      "text/plain": [
       "<matplotlib.colorbar.Colorbar at 0x7f882ab67050>"
      ]
     },
     "execution_count": 312,
     "metadata": {},
     "output_type": "execute_result"
    },
    {
     "data": {
      "image/png": "[encoded data removed]",
      "text/plain": [
       "<Figure size 720x720 with 2 Axes>"
      ]
     },
     "metadata": {
      "needs_background": "light"
     },
     "output_type": "display_data"
    }
   ],
   "source": [
    "plt.figure(figsize=(10,10))\n",
    "plt.imshow(attention.squeeze().detach().numpy())\n",
    "plt.colorbar()"
   ]
  },
  {
   "cell_type": "code",
   "execution_count": 313,
   "id": "925f1281",
   "metadata": {},
   "outputs": [
    {
     "data": {
      "text/plain": [
       "<matplotlib.legend.Legend at 0x7f883b3471d0>"
      ]
     },
     "execution_count": 313,
     "metadata": {},
     "output_type": "execute_result"
    },
    {
     "data": {
      "image/png": "[encoded data removed]",
      "text/plain": [
       "<Figure size 432x288 with 1 Axes>"
      ]
     },
     "metadata": {
      "needs_background": "light"
     },
     "output_type": "display_data"
    }
   ],
   "source": [
    "plt.plot(output.squeeze().detach().numpy(), label=\"attended convolution\")\n",
    "plt.plot(dna_conv.squeeze().detach().numpy(), label=\"convolution prior to attention\")\n",
    "plt.xlabel(\"position\")\n",
    "plt.ylabel(\"scalar value\")\n",
    "plt.title(\"comparison between attended and non attended in matching sequences\")\n",
    "plt.legend()"
   ]
  },
  {
   "cell_type": "code",
   "execution_count": 162,
   "id": "8ee32ae1",
   "metadata": {},
   "outputs": [
    {
     "data": {
      "text/plain": [
       "torch.Size([1, 1, 32])"
      ]
     },
     "execution_count": 162,
     "metadata": {},
     "output_type": "execute_result"
    }
   ],
   "source": [
    "output.shape"
   ]
  },
  {
   "cell_type": "code",
   "execution_count": null,
   "id": "b07b00e6",
   "metadata": {},
   "outputs": [],
   "source": []
  }
 ],
 "metadata": {
  "kernelspec": {
   "display_name": "Python 3 (ipykernel)",
   "language": "python",
   "name": "python3"
  },
  "language_info": {
   "codemirror_mode": {
    "name": "ipython",
    "version": 3
   },
   "file_extension": ".py",
   "mimetype": "text/x-python",
   "name": "python",
   "nbconvert_exporter": "python",
   "pygments_lexer": "ipython3",
   "version": "3.7.13"
  },
  "vscode": {
   "interpreter": {
    "hash": "6ea2977763422954ffdb0a9366ffe74ac413de7d397a1f0f85cd5e48c05339c2"
   }
  }
 },
 "nbformat": 4,
 "nbformat_minor": 5
}
